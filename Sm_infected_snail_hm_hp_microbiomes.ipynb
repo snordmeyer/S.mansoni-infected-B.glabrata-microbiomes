{
 "cells": [
  {
   "cell_type": "markdown",
   "id": "9b0c8efd",
   "metadata": {},
   "source": [
    "# Hemolymph and hepatopancreas microbiomes of schistosome infected  *Biomphalaria glabrata*\n",
    "\n",
    "\n",
    "## Aim\n",
    "\n",
    "We previously characterized the hemolymph (blood) and organ microbiomes of *Biomphalaria* snail species ([Chevalier *et al.*, 2020](https://doi.org/10.1111/1462-2920.15303), [Carruthers *et al.*](https://www.ncbi.nlm.nih.gov/pmc/articles/PMC11195231/)) and showed that these microbiomes were diverse. Since these snails are vector of schistosome (blood fluke) parasite, and that this parasite spend a month to develop into the snail, mainly in the hepatopancreas, and are bathed by hemolymph, we investigated the effects of schistosome parasite (blood fluke) infection on the microbiomes of hemolymph and hepatopancreas of its snail vector. We sampled the hemolymph and hepatopancreas of 6-8 snails of infected and uninfected snails each week. These snails were sampled from two replicated trays. We extracted and sequenced the V4 region of the 16S rRNA gene of each sample. We also quantified the number of copy of 16S rRNA gene by qPCR to approximate the bacterial density. In this notebook, we detail the analysis done to characterize the different sample microbiomes and compare them. The results are presented in the manuscript entitled \"Limited Impact of Schistosome Infection on *Biomphalaria glabrata* Snail Microbiomes\".\n",
    "\n",
    "Several folders are are already available or will be created during the analysis. Here is the list of the folders and their contents:\n",
    "* **data**: Sequencing files, qPCR result file, database for taxonomy assignment, sample metadata, and list of contaminants. These files will be either present or downloaded.\n",
    "* **.env**: Files needed to create appropriate environment.\n",
    "* **results**: Files generated through data processing. If not existing, this will be created during the analysis.\n",
    "* **scripts**: Scripts used for the analysis.\n",
    "\n",
    "\n",
    "\n",
    "## Environment and data\n",
    "\n",
    "### Creating environment\n",
    "\n",
    "Creating a conda environment improves reproducibility by installing specific versions of the programs used."
   ]
  },
  {
   "cell_type": "code",
   "execution_count": null,
   "id": "f24aa805",
   "metadata": {},
   "outputs": [],
   "source": [
    "# Download QIIME2\n",
    "wget https://data.qiime2.org/distro/core/qiime2-2021.4-py38-linux-conda.yml"
   ]
  },
  {
   "cell_type": "code",
   "execution_count": null,
   "id": "529a935c",
   "metadata": {},
   "outputs": [],
   "source": [
    "# Check if conda available\n",
    "[[ ! $(which conda 2> /dev/null) ]] && echo \"conda not available in \\$PATH. Please interrupt the kernel and fix the situation.\" && sleep inf\n",
    "\n",
    "# Creating conda environments\n",
    "conda env create -n A1qiime2 --file qiime2-2021.4-py38-linux-conda.yml\n",
    "conda env create -f .env/env.yml\n",
    "\n",
    "# Cleanup\n",
    "rm qiime2-2021.4-py38-linux-conda.yml"
   ]
  },
  {
   "cell_type": "code",
   "execution_count": null,
   "id": "056689df",
   "metadata": {},
   "outputs": [],
   "source": [
    "# Remove potential variable interferences\n",
    "export PERL5LIB=\"\"\n",
    "export PYTHONNOUSERSITE=1"
   ]
  },
  {
   "cell_type": "code",
   "execution_count": null,
   "id": "5db2c3b4",
   "metadata": {},
   "outputs": [],
   "source": [
    "# Activate QIIME2\n",
    "source $(sed \"s,/bin/conda,,\" <<<$CONDA_EXE)/etc/profile.d/conda.sh\n",
    "conda activate ubiome_bg_inf"
   ]
  },
  {
   "cell_type": "code",
   "execution_count": null,
   "id": "f805679d",
   "metadata": {},
   "outputs": [],
   "source": [
    "# Install extra R packages\n",
    "Rscript \".env/R_package_dependencies.R\""
   ]
  },
  {
   "cell_type": "markdown",
   "id": "a797346e",
   "metadata": {},
   "source": [
    "Folder and file variables"
   ]
  },
  {
   "cell_type": "code",
   "execution_count": null,
   "id": "e727bfa5",
   "metadata": {},
   "outputs": [],
   "source": [
    "# Folders\n",
    "data=\"data/libraries\"\n",
    "ldir=\"$data\"\n",
    "ddir=\"data/qPCR\"\n",
    "results=\"results/0 - QIIME2/\"\n",
    "dbdir=\"data/Silva db\"\n",
    "bldir=\"data/Blast db\"\n",
    "\n",
    "# Metadata file\n",
    "md=\"data/A1_metadata.txt\""
   ]
  },
  {
   "cell_type": "markdown",
   "id": "de54538b",
   "metadata": {},
   "source": [
    "### Downloading sequencing data\n",
    "\n",
    "This step downloads the fastq files of the different samples."
   ]
  },
  {
   "cell_type": "code",
   "execution_count": null,
   "id": "289dac73",
   "metadata": {},
   "outputs": [],
   "source": [
    "# Data directory\n",
    "[[ ! -d \"$ldir\" ]] && mkdir -p \"$ldir\"\n",
    "\n",
    "# Bioproject\n",
    "bioproject=PRJNA1171869\n",
    "\n",
    "# Download related information to data project\n",
    "runinfo=$(esearch -db sra -query ${bioproject} | efetch -format runinfo | sed \"/^$/d\")\n",
    "\n",
    "# Field of interest (library name and weblink)\n",
    "fdn=$(head -n 1 <<< \"$runinfo\" | tr \",\" \"\\n\" | grep -w -n \"LibraryName\" | cut -d \":\" -f 1)\n",
    "fdr=$(head -n 1 <<< \"$runinfo\" | tr \",\" \"\\n\" | grep -w -n \"Run\" | cut -d \":\" -f 1)\n",
    "\n",
    "# Download fastq files\n",
    "while read line\n",
    "do\n",
    "    # Filename and download link\n",
    "    fln=$(cut -d \",\" -f $fdn <<<$line)\n",
    "    run=$(cut -d \",\" -f $fdr <<<$line)\n",
    "    \n",
    "    # Download\n",
    "    echo \"$fln\"\n",
    "    fastq-dump -O \"$ldir\" --split-files \"$run\"\n",
    "    \n",
    "    mv \"$ldir/${run}_1.fastq\" \"$ldir/${fln}_R1.fastq\"\n",
    "    mv \"$ldir/${run}_2.fastq\" \"$ldir/${fln}_R2.fastq\"\n",
    "        \n",
    "done < <(tail -n +2 <<< \"$runinfo\")"
   ]
  },
  {
   "cell_type": "markdown",
   "id": "6d6971fb",
   "metadata": {},
   "source": [
    "### Downloading databases\n",
    "\n",
    "The Silva database is used to assign taxonomy to the ASVs generated from the sequencing data."
   ]
  },
  {
   "cell_type": "code",
   "execution_count": null,
   "id": "25a6aaa8-5318-43c4-947f-2c4b973d9534",
   "metadata": {},
   "outputs": [],
   "source": [
    "# Database directory\n",
    "[[ ! -d \"$dbdir\" ]] && mkdir -p \"$dbdir\"\n",
    "# creating database directory (Silva db) in data folder\n",
    "# checking to see if it exists, if not creates it \n",
    "\n",
    "# Download and extract the relevant Silva file\n",
    "wget -P \"$dbdir\" 'https://www.arb-silva.de/fileadmin/silva_databases/qiime/Silva_132_release.zip'\n",
    "# -P flag, sets directory prefix to prefix - directory where all other files and subdirectories will be saved to \n",
    "# calls database directory and uploads file from link\n",
    "# 138.1 more recent release, 8/25/2020, but not listed under qiime folder\n",
    "unzip \"$dbdir/Silva_132_release.zip\" -d \"$dbdir\" && rm \"$dbdir/Silva_132_release.zip\"\n",
    "# unzips file in directory and removes zipped file\n",
    "# -d optional directory to which to extract files\n",
    "\n",
    "# Import the sequence database in Qiime format\n",
    "qiime tools import \\\n",
    "    --input-path \"$dbdir/SILVA_132_QIIME_release/rep_set/rep_set_16S_only/99/silva_132_99_16S.fna\" \\\n",
    "    --output-path \"$dbdir/silva_132_99_16S.qza\" \\\n",
    "    --type 'FeatureData[Sequence]'\n",
    "# converts data to QIIME qza format\n",
    "\n",
    "# Import the taxonomy database in Qiime format\n",
    "qiime tools import \\\n",
    "    --input-path \"$dbdir/SILVA_132_QIIME_release/taxonomy/16S_only/99/taxonomy_all_levels.txt\" \\\n",
    "    --output-path \"$dbdir/silva_132_99_16S_taxa.qza\" \\\n",
    "    --type 'FeatureData[Taxonomy]' \\\n",
    "    --input-format HeaderlessTSVTaxonomyFormat\n",
    "# converts data to QIIME qza format"
   ]
  },
  {
   "cell_type": "markdown",
   "id": "68f14374",
   "metadata": {},
   "source": [
    "The BLAST nucleotide database is used to identified possible eukaryotic contaminations."
   ]
  },
  {
   "cell_type": "code",
   "execution_count": null,
   "id": "876e4a5b",
   "metadata": {},
   "outputs": [],
   "source": [
    "# Database directory\n",
    "[[ ! -d \"$bldir\" ]] && mkdir -p \"$bldir\"\n",
    "\n",
    "# Download Blast nucleotide (nt) database\n",
    "old_pwd=\"$PWD\"\n",
    "cd \"$bldir\"\n",
    "update_blastdb.pl --decompress nt\n",
    "cd \"$old_pwd\""
   ]
  },
  {
   "cell_type": "markdown",
   "id": "f0e92f83",
   "metadata": {},
   "source": [
    "## Qiime pipeline\n",
    "\n",
    "This section process the data to generate ASVs and assign taxonomy."
   ]
  },
  {
   "cell_type": "code",
   "execution_count": null,
   "id": "9ef7dd3b",
   "metadata": {},
   "outputs": [],
   "source": [
    "conda deactivate\n",
    "\n",
    "# Activate QIIME2\n",
    "source $(sed \"s,/bin/conda,,\" <<<$CONDA_EXE)/etc/profile.d/conda.sh\n",
    "conda activate A1qiime2"
   ]
  },
  {
   "cell_type": "code",
   "execution_count": null,
   "id": "c90993f8",
   "metadata": {},
   "outputs": [],
   "source": [
    "## QIIME PROCRESSING OF MERGED DATA\n",
    "\n",
    "# Result directory\n",
    "[[ ! -d \"$results\" ]] && mkdir -p \"$results\"\n",
    "\n",
    "# Check for sequencing data\n",
    "[[ ! $(find \"$data\" -type f -name *fastq) ]] && echo  \"No sequencing data. Please interrupt the kernel and fix the situation.\" && sleep inf\n",
    "\n",
    "# Create the manifest for importing data in artefact\n",
    "for i in $(ls \"$data\"/* | sed \"s,_R[12].fastq,,g\" | uniq) \n",
    "do\n",
    "    nm=$(sed \"s,$data/,,\" <<<$i)\n",
    "    fl=$(ls -1 \"$PWD/$i\"* | tr \"\\n\" \"\\t\")\n",
    "\n",
    "    echo -e \"$nm\\t$fl\"\n",
    "done > \"$results/Manifest\"\n",
    "\n",
    "# Add header\n",
    "sed -i \"1s/^/sample-id\\tforward-absolute-filepath\\treverse-absolute-filepath\\n/\" \"$results/Manifest\"\n",
    "\n",
    "# Import data\n",
    "qiime tools import \\\n",
    "    --type 'SampleData[PairedEndSequencesWithQuality]' \\\n",
    "    --input-path \"$results/Manifest\" \\\n",
    "    --input-format PairedEndFastqManifestPhred33V2 \\\n",
    "    --output-path \"$results/full-demux-single-end.qza\"\n",
    "\n",
    "# Make a summary to check read quality\n",
    "qiime demux summarize \\\n",
    "    --i-data \"$results/full-demux-paired-end.qza\" \\\n",
    "    --o-visualization \"$results/full-demux-single-end.qzv\"\n",
    "\n",
    "# Run dada2\n",
    "qiime dada2 denoise-single \\\n",
    "    --i-demultiplexed-seqs \"$results/full-demux-single-end.qza\" \\\n",
    "    --p-trunc-len 250 \\\n",
    "    --p-max-ee 5 \\\n",
    "    --p-n-threads 0 \\\n",
    "    --o-table \"$results/table.qza\" \\\n",
    "    --o-representative-sequences \"$results/rep-seqs.qza\" \\\n",
    "    --o-denoising-stats \"$results/denoising-stats.qza\"\n",
    "\n",
    "# Add metadata information to the denoising stats\n",
    "qiime metadata tabulate \\\n",
    "    --m-input-file \"$md\" \\\n",
    "    --m-input-file \"$results/denoising-stats.qza\" \\\n",
    "    --o-visualization \"$results/denoising-stats.qzv\"\n"
   ]
  },
  {
   "cell_type": "markdown",
   "id": "2464895b-4fee-4b6d-9cdf-5e67698a265d",
   "metadata": {},
   "source": [
    "### Taxonomy identification\n",
    "\n",
    "This step assigns taxonomy to the ASVs generated. This is done using the Silva database and the `classify-consensus-vsearch` method from the `feature-classifier` plugin with an identity threshold of 97%."
   ]
  },
  {
   "cell_type": "code",
   "execution_count": null,
   "id": "82cc459a-6737-4f5f-a64d-1317b5fada0c",
   "metadata": {},
   "outputs": [],
   "source": [
    "# Assigning taxonomy to ASVs (using Silva database)\n",
    "qiime feature-classifier classify-consensus-vsearch \\\n",
    "    --i-query \"$results/rep-seqs.qza\" \\\n",
    "    --i-reference-reads \"$dbdir/silva_132_99_16S.qza\" \\\n",
    "    --i-reference-taxonomy \"$dbdir/silva_132_99_16S_taxa.qza\" \\\n",
    "    --p-perc-identity 0.97 \\\n",
    "    --p-threads $(nproc) \\\n",
    "    --o-classification \"$results/rep-seqs_taxa.qza\""
   ]
  },
  {
   "cell_type": "markdown",
   "id": "1a6bb984-26f5-4652-8361-6082d27692e8",
   "metadata": {},
   "source": [
    "### Building phylogenetic tree\n",
    "\n",
    "This step generates a phylogeny from the ASVs ([source](https://chmi-sops.github.io/mydoc_qiime2.html)). ASVs are aligned, masked for highly variable regions. A tree is created from the alignment and rooted in its center."
   ]
  },
  {
   "cell_type": "code",
   "execution_count": null,
   "id": "03cb4461-2fab-4a6e-b1cf-106d73d035ab",
   "metadata": {},
   "outputs": [],
   "source": [
    "# Generates phylogeny from ASVs\n",
    "[[ -f \"results/rooted-tree.qza\" ]] && echo \"A tree file (rooted-tree.qza) exists already. Please interrupt the kernel and fix the situation.\" && sleep inf\n",
    "\n",
    "# Multiple seqeunce alignment using Mafft\n",
    "qiime alignment mafft \\\n",
    "    --i-sequences \"$results/rep-seqs.qza\" \\\n",
    "    --o-alignment \"$results/aligned-rep-seqs.qza\"\n",
    "\n",
    "# Masking (or filtering) the alignment to remove positions that are highly variable. These positions are generally considered to add noise to a resulting phylogenetic tree.\n",
    "qiime alignment mask \\\n",
    "    --i-alignment \"$results/aligned-rep-seqs.qza\" \\\n",
    "    --o-masked-alignment \"$results/masked-aligned-rep-seqs.qza\"\n",
    "\n",
    "# Creating tree using the Fasttree program\n",
    "qiime phylogeny fasttree \\\n",
    "    --i-alignment \"$results/masked-aligned-rep-seqs.qza\" \\\n",
    "    --o-tree \"$results/unrooted-tree.qza\"\n",
    "\n",
    "# Root the tree using the longest root\n",
    "qiime phylogeny midpoint-root \\\n",
    "    --i-tree \"$results/unrooted-tree.qza\" \\\n",
    "    --o-rooted-tree \"$results/rooted-tree.qza\""
   ]
  },
  {
   "cell_type": "markdown",
   "id": "50f493a4",
   "metadata": {},
   "source": [
    "## Identification of ASVs with unassigned taxonomy\n",
    "\n",
    "ASVs with unassigned taxonomy could correspond to eukaryotic contaminants because of the 16S primers amplifying on the 5S or 18S regions. To exclude such contaminants, we perform a megablast search againt the NCBI nt database to find the best sequence similarity to a given unassigned ASV. The results will be then used to exclude non 16S sequences for the subsequent analysis.\n",
    "\n",
    "Because of the time this analysis can take (up to 7h), the list of contaminants is already available in the data folder.\n",
    "\n",
    "### Export of unassigned ASV\n",
    "\n",
    "We use Qiime to filter and export ASV without taxonomy assignments."
   ]
  },
  {
   "cell_type": "code",
   "execution_count": null,
   "id": "5a31bec5",
   "metadata": {},
   "outputs": [],
   "source": [
    "# Filtering assigned ASV out \n",
    "qiime taxa filter-seqs \\\n",
    "    --i-sequences \"$results/rep-seqs.qza\" \\\n",
    "    --i-taxonomy \"$results/rep-seqs_taxa.qza\" \\\n",
    "    --p-include \"Unassigned\" \\\n",
    "    --o-filtered-sequences \"$results/rep-seqs_unassigned.qza\"\n",
    "\n",
    "# Exporting sequences in fasta format\n",
    "qiime tools export \\\n",
    "    --input-path \"$results/rep-seqs_unassigned.qza\" \\\n",
    "    --output-path \"$results/rep-seqs-unassigned\""
   ]
  },
  {
   "cell_type": "markdown",
   "id": "c5c0b498",
   "metadata": {},
   "source": [
    "### Blast and annotation of unassigned ASVs\n",
    "\n",
    "To identify the most similar sequences to the unassigned ASVs, we perform a megablast. This is done using a relatively lenient e-value parameter (1e-2) to increase power of detection. This step is relatively long (estimated running time: 5 h - 8 h) even when using a maxiumum target of 1 with a maximum alignment (HSPs) of 1. The resulting table is then updated with the title and the phyla of the blast match (estimated running time: 30 min - 1 h). Finally we correct the annotations because some ASVs match 16S mitochondrial DNA of eukayote organisms and are wrongly classified as eukaryotes while they likely represent bacteria."
   ]
  },
  {
   "cell_type": "code",
   "execution_count": null,
   "id": "d4373847",
   "metadata": {},
   "outputs": [],
   "source": [
    "# Blast the unassigned against the nt database\n",
    "export BLASTDB=\"$PWD/$bldir/\"\n",
    "blastn -task megablast -db nt \\\n",
    "    -query \"$results/rep-seqs-unassigned/dna-sequences.fasta\" \\\n",
    "    -max_target_seqs 1 \\\n",
    "    -max_hsps 1 \\\n",
    "    -evalue 1e-2 \\\n",
    "    -outfmt 6 > \"$results/rep-seqs-unassigned/unassigned.blastn.tsv\"\n",
    "\n",
    "# Complete the table to identify what kind of organism the match belongs to\n",
    "for ((i=1; i <= $(wc -l < \"$results/rep-seqs-unassigned/unassigned.blastn.tsv\"); i++))\n",
    "do\n",
    "    # Get GI from the blast result\n",
    "    gi=$(sed -n \"${i}p\" \"$results/rep-seqs-unassigned/unassigned.blastn.tsv\" | cut -f 2)\n",
    "    \n",
    "    # Download entry and get title and phylym info\n",
    "    entry=$(wget -q -O - \"https://eutils.ncbi.nlm.nih.gov/entrez/eutils/efetch.fcgi?db=nuccore&id=${gi}&rettype=gb\")\n",
    "    title=$(echo \"$entry\" | grep \"^DEFINITION\" | cut -d \" \" -f 3-)\n",
    "    phylum=$(echo \"$entry\" | grep -A 1 \"^ *ORGANISM\" | sed -n \"2p\" | cut -d \";\" -f 1 | sed \"s/ *//g\")\n",
    "    \n",
    "    # Update table line\n",
    "    sed -i \"${i}s/$/\\t$title\\t$phylum/\" \"$results/rep-seqs-unassigned/unassigned.blastn.tsv\"\n",
    "    \n",
    "    # Sleep a little to avoid server closing connection on next request\n",
    "    sleep 0.25s\n",
    "done\n",
    "\n",
    "# Correct annotation\n",
    "for i in $(egrep -n \"mitochondri.*Eukaryota$\" \"$results/rep-seqs-unassigned/unassigned.blastn.tsv\" | cut -d \":\" -f 1)\n",
    "do\n",
    "    sed -i \"${i}s/Eukaryota/Bacteria/\" \"$results/rep-seqs-unassigned/unassigned.blastn.tsv\"\n",
    "done"
   ]
  },
  {
   "cell_type": "markdown",
   "id": "bae97314",
   "metadata": {},
   "source": [
    "## Library analysis\n",
    "\n",
    "To better understand the impact of the different steps on the number of reads filtered out, we analyze the Qiime2 visualization generated after the denoising step. We generate a table summarizing number of reads retained (mean, standard deviation and range) at each step, which includes the number of initial, filtered, denoised, merged and non chimeric reads, for each population and replicate."
   ]
  },
  {
   "cell_type": "code",
   "execution_count": null,
   "id": "a7905aef",
   "metadata": {},
   "outputs": [],
   "source": [
    "conda deactivate\n",
    "\n",
    "# Activate ubiome_bg_inf\n",
    "source $(sed \"s,/bin/conda,,\" <<<$CONDA_EXE)/etc/profile.d/conda.sh\n",
    "conda activate ubiome_bg_inf"
   ]
  },
  {
   "cell_type": "code",
   "execution_count": null,
   "id": "e6779b00",
   "metadata": {
    "scrolled": true
   },
   "outputs": [],
   "source": [
    "Rscript scripts/Library_Stats.R"
   ]
  },
  {
   "cell_type": "markdown",
   "id": "7269c547",
   "metadata": {},
   "source": [
    "## Survival analysis\n",
    "\n",
    "We analyzed the survival of snails from exposed and control cohorts that have not been sampled for microbiome."
   ]
  },
  {
   "cell_type": "code",
   "execution_count": null,
   "id": "fa1fb3ff",
   "metadata": {},
   "outputs": [],
   "source": [
    "Rscript scripts/SurvivalAnalysis.R"
   ]
  },
  {
   "cell_type": "markdown",
   "id": "c3cf8f0c",
   "metadata": {},
   "source": [
    "## Microbiome diversity\n",
    "\n",
    "We measure several parameters to characterize the different microbiomes:\n",
    "* **Rarefaction curves**: we generate them for each library to check whether sequencing effort was enough.\n",
    "* **$\\alpha$-diversity**: we measured observed richness, Faith's phylogenetic diversity and Simpson evenness and tested which factor(s) (sample type, infection status, time, etc.) explained the variation observed using linear mixed-effect models.\n",
    "* **$\\beta$-diversity**: we measured Bray-Curtis and weighted UniFrac to understand the dynamic of the microbial communities over time and during infection.\n",
    "* **Taxonomic diversity**: we investigated which taxa were found in sample types.\n",
    "\n",
    "Details about the methods used are available in the R scripts. Analysis of the results are detailed in the manuscript."
   ]
  },
  {
   "cell_type": "code",
   "execution_count": null,
   "id": "03ec1cc5",
   "metadata": {},
   "outputs": [],
   "source": [
    "Rscript scripts/Create_Phyloseq.R"
   ]
  },
  {
   "cell_type": "code",
   "execution_count": null,
   "id": "0cde4de0",
   "metadata": {},
   "outputs": [],
   "source": [
    "Rscript scripts/Rarefaction_Curve.R"
   ]
  },
  {
   "cell_type": "code",
   "execution_count": null,
   "id": "c2f5d3ad",
   "metadata": {},
   "outputs": [],
   "source": [
    "Rscript scripts/Alpha_diversity.R"
   ]
  },
  {
   "cell_type": "code",
   "execution_count": null,
   "id": "aa62da65",
   "metadata": {},
   "outputs": [],
   "source": [
    "Rscript scripts/Beta_Diversity.R"
   ]
  },
  {
   "cell_type": "code",
   "execution_count": null,
   "id": "3f10da9d",
   "metadata": {},
   "outputs": [],
   "source": [
    "Rscript scripts/Taxonomy.R"
   ]
  },
  {
   "cell_type": "markdown",
   "id": "a6599dfb",
   "metadata": {},
   "source": [
    "## Microbiome density\n",
    "\n",
    "We investigate the bacterial density of each hemolymph of infected and uninfected snails over time. Bacterial density was estimated using 16S qPCR. We compare quantities within each snail."
   ]
  },
  {
   "cell_type": "code",
   "execution_count": null,
   "id": "e6a46800",
   "metadata": {},
   "outputs": [],
   "source": [
    "Rscript scripts/Bacterial_Density.R"
   ]
  }
 ],
 "metadata": {
  "kernelspec": {
   "display_name": "Bash",
   "language": "bash",
   "name": "bash"
  },
  "language_info": {
   "codemirror_mode": "shell",
   "file_extension": ".sh",
   "mimetype": "text/x-sh",
   "name": "bash"
  },
  "toc": {
   "base_numbering": 1,
   "nav_menu": {},
   "number_sections": false,
   "sideBar": true,
   "skip_h1_title": true,
   "title_cell": "Table of Contents",
   "title_sidebar": "Contents",
   "toc_cell": false,
   "toc_position": {},
   "toc_section_display": true,
   "toc_window_display": false
  },
  "varInspector": {
   "cols": {
    "lenName": 16,
    "lenType": 16,
    "lenVar": 40
   },
   "kernels_config": {
    "python": {
     "delete_cmd_postfix": "",
     "delete_cmd_prefix": "del ",
     "library": "var_list.py",
     "varRefreshCmd": "print(var_dic_list())"
    },
    "r": {
     "delete_cmd_postfix": ") ",
     "delete_cmd_prefix": "rm(",
     "library": "var_list.r",
     "varRefreshCmd": "cat(var_dic_list()) "
    }
   },
   "types_to_exclude": [
    "module",
    "function",
    "builtin_function_or_method",
    "instance",
    "_Feature"
   ],
   "window_display": false
  }
 },
 "nbformat": 4,
 "nbformat_minor": 5
}
